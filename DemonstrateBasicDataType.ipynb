{
 "cells": [
  {
   "cell_type": "code",
   "execution_count": 1,
   "id": "bfe17bdd",
   "metadata": {},
   "outputs": [],
   "source": [
    "a=42"
   ]
  },
  {
   "cell_type": "code",
   "execution_count": 3,
   "id": "d25cb9b2",
   "metadata": {},
   "outputs": [],
   "source": [
    "b = 3.1546"
   ]
  },
  {
   "cell_type": "code",
   "execution_count": 4,
   "id": "7a5c8595",
   "metadata": {},
   "outputs": [],
   "source": [
    "c=\"hello world\""
   ]
  },
  {
   "cell_type": "code",
   "execution_count": 5,
   "id": "9afd0d37",
   "metadata": {},
   "outputs": [],
   "source": [
    "d=True"
   ]
  },
  {
   "cell_type": "code",
   "execution_count": 6,
   "id": "46a29a91",
   "metadata": {},
   "outputs": [],
   "source": [
    "e=[1,2,3,4,5]"
   ]
  },
  {
   "cell_type": "code",
   "execution_count": 7,
   "id": "bd05e2e9",
   "metadata": {},
   "outputs": [],
   "source": [
    "f=(6,7,8,9)"
   ]
  },
  {
   "cell_type": "code",
   "execution_count": 19,
   "id": "ed52787a",
   "metadata": {},
   "outputs": [],
   "source": [
    "g={\"name\",\"john\",\"age\",\"30\",\"city\"}"
   ]
  },
  {
   "cell_type": "code",
   "execution_count": 11,
   "id": "5fbd6c84",
   "metadata": {},
   "outputs": [
    {
     "name": "stdout",
     "output_type": "stream",
     "text": [
      "a = 42 is of type : <class 'int'>\n"
     ]
    }
   ],
   "source": [
    "print(\"a =\",a,\"is of type :\",type(a))"
   ]
  },
  {
   "cell_type": "code",
   "execution_count": 12,
   "id": "ff0c2bfd",
   "metadata": {},
   "outputs": [
    {
     "name": "stdout",
     "output_type": "stream",
     "text": [
      "b = 3.1546 is of type : <class 'float'>\n"
     ]
    }
   ],
   "source": [
    "print(\"b =\",b,\"is of type :\",type(b))"
   ]
  },
  {
   "cell_type": "code",
   "execution_count": 13,
   "id": "6a8196a4",
   "metadata": {},
   "outputs": [
    {
     "name": "stdout",
     "output_type": "stream",
     "text": [
      "c = hello world is of type : <class 'str'>\n"
     ]
    }
   ],
   "source": [
    "print(\"c =\",c,\"is of type :\",type(c))"
   ]
  },
  {
   "cell_type": "code",
   "execution_count": 14,
   "id": "e225c10a",
   "metadata": {},
   "outputs": [
    {
     "name": "stdout",
     "output_type": "stream",
     "text": [
      "d = True is of type : <class 'bool'>\n"
     ]
    }
   ],
   "source": [
    "print(\"d =\",d,\"is of type :\",type(d))"
   ]
  },
  {
   "cell_type": "code",
   "execution_count": 15,
   "id": "03d4fe5b",
   "metadata": {},
   "outputs": [
    {
     "name": "stdout",
     "output_type": "stream",
     "text": [
      "e = [1, 2, 3, 4, 5] is of type : <class 'list'>\n"
     ]
    }
   ],
   "source": [
    "print(\"e =\",e,\"is of type :\",type(e))"
   ]
  },
  {
   "cell_type": "code",
   "execution_count": 16,
   "id": "c3e0835e",
   "metadata": {},
   "outputs": [
    {
     "name": "stdout",
     "output_type": "stream",
     "text": [
      "f = (6, 7, 8, 9) is of type : <class 'tuple'>\n"
     ]
    }
   ],
   "source": [
    "print(\"f =\",f,\"is of type :\",type(f))"
   ]
  },
  {
   "cell_type": "code",
   "execution_count": 20,
   "id": "3af01aea",
   "metadata": {},
   "outputs": [
    {
     "name": "stdout",
     "output_type": "stream",
     "text": [
      "g = {'30', 'city', 'age', 'name', 'john'} is of type : <class 'set'>\n"
     ]
    }
   ],
   "source": [
    "print(\"g =\",g,\"is of type :\",type(g))"
   ]
  },
  {
   "cell_type": "code",
   "execution_count": null,
   "id": "f584dba6",
   "metadata": {},
   "outputs": [],
   "source": []
  }
 ],
 "metadata": {
  "kernelspec": {
   "display_name": "Python 3 (ipykernel)",
   "language": "python",
   "name": "python3"
  },
  "language_info": {
   "codemirror_mode": {
    "name": "ipython",
    "version": 3
   },
   "file_extension": ".py",
   "mimetype": "text/x-python",
   "name": "python",
   "nbconvert_exporter": "python",
   "pygments_lexer": "ipython3",
   "version": "3.10.9"
  }
 },
 "nbformat": 4,
 "nbformat_minor": 5
}
