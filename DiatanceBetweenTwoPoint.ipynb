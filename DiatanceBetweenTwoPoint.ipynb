{
 "cells": [
  {
   "cell_type": "code",
   "execution_count": 5,
   "id": "00d4922d",
   "metadata": {},
   "outputs": [
    {
     "name": "stdout",
     "output_type": "stream",
     "text": [
      "enter the x1 fiest value:4\n",
      "enter the y1 coordinte of the second point6\n",
      "enter the y1 coordinte of the second point0\n",
      "enter the y2 coordinte of the fourth point6\n",
      "the distance between the tw point is: 6.324555320336759\n"
     ]
    }
   ],
   "source": [
    "import math\n",
    "x1 = float(input(\"enter the x1 fiest value:\"))\n",
    "x2=float(input(\"enter the y1 coordinte of the second point\"))\n",
    "y1=float(input(\"enter the y1 coordinte of the second point\"))\n",
    "y2=float(input(\"enter the y2 coordinte of the fourth point\"))\n",
    "distance = math.sqrt((x2-x1)**2+(y2-y1)**2)\n",
    "print(\"the distance between the tw point is:\",distance)"
   ]
  }
 ],
 "metadata": {
  "kernelspec": {
   "display_name": "Python 3 (ipykernel)",
   "language": "python",
   "name": "python3"
  },
  "language_info": {
   "codemirror_mode": {
    "name": "ipython",
    "version": 3
   },
   "file_extension": ".py",
   "mimetype": "text/x-python",
   "name": "python",
   "nbconvert_exporter": "python",
   "pygments_lexer": "ipython3",
   "version": "3.10.9"
  }
 },
 "nbformat": 4,
 "nbformat_minor": 5
}
