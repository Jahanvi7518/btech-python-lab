{
 "cells": [
  {
   "cell_type": "code",
   "execution_count": 9,
   "id": "23cb26fd",
   "metadata": {},
   "outputs": [
    {
     "name": "stdout",
     "output_type": "stream",
     "text": [
      "[0, 1, 1, 2, 3, 5, 8, 13, 21]\n"
     ]
    }
   ],
   "source": [
    "n = 9  \n",
    "first = 0 #first value of series  \n",
    "second = 1 #second value of series  \n",
    "series = [first, second]  \n",
    "if n == 0:  \n",
    "     print(\"The required fibonacci series is\",first)  \n",
    "else:  \n",
    "     for i in range(0,n-2):   \n",
    "         num = series[i] + series[i+1]  \n",
    "         series.append(num)  \n",
    "print(series)  "
   ]
  }
 ],
 "metadata": {
  "kernelspec": {
   "display_name": "Python 3 (ipykernel)",
   "language": "python",
   "name": "python3"
  },
  "language_info": {
   "codemirror_mode": {
    "name": "ipython",
    "version": 3
   },
   "file_extension": ".py",
   "mimetype": "text/x-python",
   "name": "python",
   "nbconvert_exporter": "python",
   "pygments_lexer": "ipython3",
   "version": "3.10.9"
  }
 },
 "nbformat": 4,
 "nbformat_minor": 5
}
